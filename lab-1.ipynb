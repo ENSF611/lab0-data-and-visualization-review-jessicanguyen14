{
 "cells": [
  {
   "cell_type": "code",
   "execution_count": 1,
   "id": "6f63fc0f",
   "metadata": {},
   "outputs": [
    {
     "name": "stdout",
     "output_type": "stream",
     "text": [
      "Python␣version: 3.9.12 (main, Apr  4 2022, 05:22:27) [MSC v.1916 64 bit (AMD64)]\n",
      "pandas␣version: 1.4.2\n",
      "matplotlib␣version: 3.5.1\n",
      "NumPy␣version: 1.19.2\n",
      "SciPy␣version: 1.7.3\n",
      "IPython␣version: 8.2.0\n",
      "scikit-learn␣version: 1.0.2\n",
      "yellowbrick␣version: 1.3\n"
     ]
    }
   ],
   "source": [
    "import sys\n",
    "print(\"Python␣version:\", sys.version)\n",
    "import pandas as pd\n",
    "print(\"pandas␣version:\", pd.__version__)\n",
    "import matplotlib\n",
    "print(\"matplotlib␣version:\", matplotlib.__version__)\n",
    "import numpy as np\n",
    "print(\"NumPy␣version:\", np.__version__)\n",
    "import scipy as sp\n",
    "print(\"SciPy␣version:\", sp.__version__)\n",
    "import IPython\n",
    "print(\"IPython␣version:\", IPython.__version__)\n",
    "import sklearn\n",
    "print(\"scikit-learn␣version:\", sklearn.__version__)\n",
    "import yellowbrick\n",
    "print(\"yellowbrick␣version:\", yellowbrick.__version__)"
   ]
  },
  {
   "cell_type": "code",
   "execution_count": 2,
   "id": "6255dcc4",
   "metadata": {},
   "outputs": [
    {
     "name": "stdout",
     "output_type": "stream",
     "text": [
      "# conda environments:\n",
      "#\n",
      "                         C:\\ProgramData\\Anaconda3\n",
      "ENSF592                  C:\\Users\\Jessica Nguyen\\.conda\\envs\\ENSF592\n",
      "ENSF594                  C:\\Users\\Jessica Nguyen\\.conda\\envs\\ENSF594\n",
      "base                  *  C:\\Users\\Jessica Nguyen\\.conda\\envs\\ensf-ml\n",
      "\n"
     ]
    }
   ],
   "source": [
    "!conda info --envs"
   ]
  },
  {
   "cell_type": "code",
   "execution_count": null,
   "id": "ece53bb7",
   "metadata": {},
   "outputs": [],
   "source": []
  }
 ],
 "metadata": {
  "kernelspec": {
   "display_name": "Python 3 (ipykernel)",
   "language": "python",
   "name": "python3"
  },
  "language_info": {
   "codemirror_mode": {
    "name": "ipython",
    "version": 3
   },
   "file_extension": ".py",
   "mimetype": "text/x-python",
   "name": "python",
   "nbconvert_exporter": "python",
   "pygments_lexer": "ipython3",
   "version": "3.9.12"
  }
 },
 "nbformat": 4,
 "nbformat_minor": 5
}
